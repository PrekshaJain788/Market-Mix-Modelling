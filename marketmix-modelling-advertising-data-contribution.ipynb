{
 "cells": [
  {
   "cell_type": "markdown",
   "id": "d498f87a",
   "metadata": {
    "papermill": {
     "duration": 0.012372,
     "end_time": "2022-08-19T10:39:10.184253",
     "exception": false,
     "start_time": "2022-08-19T10:39:10.171881",
     "status": "completed"
    },
    "tags": []
   },
   "source": [
    "Market Mix Modeling (MMM) is a technique which helps in quantifying the impact of several marketing\n",
    "inputs on sales or Market Share. The purpose of using MMM is to understand how much each marketing \n",
    "input contributes to sales, and how much to spend on each marketing input.\n",
    "\n",
    "MMM helps in the ascertaining the effectiveness of each marketing input in terms of \n",
    "Return on Investment. In other words, a marketing input with higher return on Investment (ROI) \n",
    "is more effective as a medium than a marketing input with a lower ROI.\n",
    "\n",
    "MMM uses the Regression technique and the analysis performed through Regression is further used \n",
    "for extracting key information/insights."
   ]
  },
  {
   "cell_type": "code",
   "execution_count": 1,
   "id": "603e747e",
   "metadata": {
    "execution": {
     "iopub.execute_input": "2022-08-19T10:39:10.209658Z",
     "iopub.status.busy": "2022-08-19T10:39:10.208827Z",
     "iopub.status.idle": "2022-08-19T10:39:11.510799Z",
     "shell.execute_reply": "2022-08-19T10:39:11.509546Z"
    },
    "papermill": {
     "duration": 1.318989,
     "end_time": "2022-08-19T10:39:11.513945",
     "exception": false,
     "start_time": "2022-08-19T10:39:10.194956",
     "status": "completed"
    },
    "tags": []
   },
   "outputs": [],
   "source": [
    "import pandas as pd\n",
    "import numpy as np\n",
    "import seaborn as sns\n",
    "import matplotlib.pyplot as plt\n",
    "pd.set_option('display.max_columns',None)"
   ]
  },
  {
   "cell_type": "code",
   "execution_count": 2,
   "id": "cfc0ee2e",
   "metadata": {
    "execution": {
     "iopub.execute_input": "2022-08-19T10:39:11.540095Z",
     "iopub.status.busy": "2022-08-19T10:39:11.539677Z",
     "iopub.status.idle": "2022-08-19T10:39:11.551199Z",
     "shell.execute_reply": "2022-08-19T10:39:11.549828Z"
    },
    "papermill": {
     "duration": 0.027947,
     "end_time": "2022-08-19T10:39:11.554079",
     "exception": false,
     "start_time": "2022-08-19T10:39:11.526132",
     "status": "completed"
    },
    "tags": []
   },
   "outputs": [
    {
     "name": "stdout",
     "output_type": "stream",
     "text": [
      "/kaggle/input/advertisingcsv/Advertising.csv\n"
     ]
    }
   ],
   "source": [
    "import os\n",
    "for dirname, _, filenames in os.walk('/kaggle/input'):\n",
    "    for filename in filenames:\n",
    "        print(os.path.join(dirname, filename))"
   ]
  },
  {
   "cell_type": "code",
   "execution_count": 3,
   "id": "e6a63bf7",
   "metadata": {
    "execution": {
     "iopub.execute_input": "2022-08-19T10:39:11.581080Z",
     "iopub.status.busy": "2022-08-19T10:39:11.580358Z",
     "iopub.status.idle": "2022-08-19T10:39:11.596947Z",
     "shell.execute_reply": "2022-08-19T10:39:11.595947Z"
    },
    "papermill": {
     "duration": 0.031394,
     "end_time": "2022-08-19T10:39:11.599677",
     "exception": false,
     "start_time": "2022-08-19T10:39:11.568283",
     "status": "completed"
    },
    "tags": []
   },
   "outputs": [],
   "source": [
    "promo = pd.read_csv(\"/kaggle/input/advertisingcsv/Advertising.csv\")"
   ]
  },
  {
   "cell_type": "code",
   "execution_count": 4,
   "id": "fbec09e2",
   "metadata": {
    "execution": {
     "iopub.execute_input": "2022-08-19T10:39:11.624699Z",
     "iopub.status.busy": "2022-08-19T10:39:11.623898Z",
     "iopub.status.idle": "2022-08-19T10:39:11.649960Z",
     "shell.execute_reply": "2022-08-19T10:39:11.648430Z"
    },
    "papermill": {
     "duration": 0.042116,
     "end_time": "2022-08-19T10:39:11.652786",
     "exception": false,
     "start_time": "2022-08-19T10:39:11.610670",
     "status": "completed"
    },
    "tags": []
   },
   "outputs": [
    {
     "data": {
      "text/html": [
       "<div>\n",
       "<style scoped>\n",
       "    .dataframe tbody tr th:only-of-type {\n",
       "        vertical-align: middle;\n",
       "    }\n",
       "\n",
       "    .dataframe tbody tr th {\n",
       "        vertical-align: top;\n",
       "    }\n",
       "\n",
       "    .dataframe thead th {\n",
       "        text-align: right;\n",
       "    }\n",
       "</style>\n",
       "<table border=\"1\" class=\"dataframe\">\n",
       "  <thead>\n",
       "    <tr style=\"text-align: right;\">\n",
       "      <th></th>\n",
       "      <th>Unnamed: 0</th>\n",
       "      <th>TV</th>\n",
       "      <th>Radio</th>\n",
       "      <th>Newspaper</th>\n",
       "      <th>Sales</th>\n",
       "    </tr>\n",
       "  </thead>\n",
       "  <tbody>\n",
       "    <tr>\n",
       "      <th>0</th>\n",
       "      <td>1</td>\n",
       "      <td>230.1</td>\n",
       "      <td>37.8</td>\n",
       "      <td>69.2</td>\n",
       "      <td>22.1</td>\n",
       "    </tr>\n",
       "    <tr>\n",
       "      <th>1</th>\n",
       "      <td>2</td>\n",
       "      <td>44.5</td>\n",
       "      <td>39.3</td>\n",
       "      <td>45.1</td>\n",
       "      <td>10.4</td>\n",
       "    </tr>\n",
       "  </tbody>\n",
       "</table>\n",
       "</div>"
      ],
      "text/plain": [
       "   Unnamed: 0     TV  Radio  Newspaper  Sales\n",
       "0           1  230.1   37.8       69.2   22.1\n",
       "1           2   44.5   39.3       45.1   10.4"
      ]
     },
     "execution_count": 4,
     "metadata": {},
     "output_type": "execute_result"
    }
   ],
   "source": [
    "promo.head(2)"
   ]
  },
  {
   "cell_type": "code",
   "execution_count": 5,
   "id": "067da737",
   "metadata": {
    "execution": {
     "iopub.execute_input": "2022-08-19T10:39:11.677194Z",
     "iopub.status.busy": "2022-08-19T10:39:11.676774Z",
     "iopub.status.idle": "2022-08-19T10:39:11.688984Z",
     "shell.execute_reply": "2022-08-19T10:39:11.687642Z"
    },
    "papermill": {
     "duration": 0.027765,
     "end_time": "2022-08-19T10:39:11.691721",
     "exception": false,
     "start_time": "2022-08-19T10:39:11.663956",
     "status": "completed"
    },
    "tags": []
   },
   "outputs": [],
   "source": [
    "promo=promo[['TV','Radio','Newspaper','Sales']]"
   ]
  },
  {
   "cell_type": "code",
   "execution_count": 6,
   "id": "f6cf2c2d",
   "metadata": {
    "execution": {
     "iopub.execute_input": "2022-08-19T10:39:11.716185Z",
     "iopub.status.busy": "2022-08-19T10:39:11.715422Z",
     "iopub.status.idle": "2022-08-19T10:39:12.015116Z",
     "shell.execute_reply": "2022-08-19T10:39:12.013303Z"
    },
    "papermill": {
     "duration": 0.315709,
     "end_time": "2022-08-19T10:39:12.018561",
     "exception": false,
     "start_time": "2022-08-19T10:39:11.702852",
     "status": "completed"
    },
    "tags": []
   },
   "outputs": [
    {
     "name": "stderr",
     "output_type": "stream",
     "text": [
      "/opt/conda/lib/python3.7/site-packages/seaborn/distributions.py:2619: FutureWarning: `distplot` is a deprecated function and will be removed in a future version. Please adapt your code to use either `displot` (a figure-level function with similar flexibility) or `histplot` (an axes-level function for histograms).\n",
      "  warnings.warn(msg, FutureWarning)\n"
     ]
    },
    {
     "data": {
      "text/plain": [
       "<AxesSubplot:xlabel='Sales', ylabel='Density'>"
      ]
     },
     "execution_count": 6,
     "metadata": {},
     "output_type": "execute_result"
    },
    {
     "data": {
      "image/png": "[encoded data removed]",
      "text/plain": [
       "<Figure size 432x288 with 1 Axes>"
      ]
     },
     "metadata": {
      "needs_background": "light"
     },
     "output_type": "display_data"
    }
   ],
   "source": [
    "sns.distplot(promo['Sales'])"
   ]
  },
  {
   "cell_type": "code",
   "execution_count": 7,
   "id": "fa89d4cb",
   "metadata": {
    "execution": {
     "iopub.execute_input": "2022-08-19T10:39:12.044420Z",
     "iopub.status.busy": "2022-08-19T10:39:12.043974Z",
     "iopub.status.idle": "2022-08-19T10:39:12.055638Z",
     "shell.execute_reply": "2022-08-19T10:39:12.054407Z"
    },
    "papermill": {
     "duration": 0.027415,
     "end_time": "2022-08-19T10:39:12.058218",
     "exception": false,
     "start_time": "2022-08-19T10:39:12.030803",
     "status": "completed"
    },
    "tags": []
   },
   "outputs": [
    {
     "data": {
      "text/plain": [
       "TV           0.782224\n",
       "Radio        0.576223\n",
       "Newspaper    0.228299\n",
       "Sales        1.000000\n",
       "Name: Sales, dtype: float64"
      ]
     },
     "execution_count": 7,
     "metadata": {},
     "output_type": "execute_result"
    }
   ],
   "source": [
    "## Let's See the Correlation between Sales and each Channel\n",
    "promo.corr()['Sales']"
   ]
  },
  {
   "cell_type": "code",
   "execution_count": 8,
   "id": "9356f088",
   "metadata": {
    "execution": {
     "iopub.execute_input": "2022-08-19T10:39:12.084519Z",
     "iopub.status.busy": "2022-08-19T10:39:12.084085Z",
     "iopub.status.idle": "2022-08-19T10:39:12.367608Z",
     "shell.execute_reply": "2022-08-19T10:39:12.366392Z"
    },
    "papermill": {
     "duration": 0.299895,
     "end_time": "2022-08-19T10:39:12.370356",
     "exception": false,
     "start_time": "2022-08-19T10:39:12.070461",
     "status": "completed"
    },
    "tags": []
   },
   "outputs": [
    {
     "data": {
      "text/plain": [
       "<AxesSubplot:>"
      ]
     },
     "execution_count": 8,
     "metadata": {},
     "output_type": "execute_result"
    },
    {
     "data": {
      "image/png": "[encoded data removed]",
      "text/plain": [
       "<Figure size 432x288 with 2 Axes>"
      ]
     },
     "metadata": {
      "needs_background": "light"
     },
     "output_type": "display_data"
    }
   ],
   "source": [
    "sns.heatmap(promo.corr(),annot=True)"
   ]
  },
  {
   "cell_type": "markdown",
   "id": "3eefe3a6",
   "metadata": {
    "papermill": {
     "duration": 0.011618,
     "end_time": "2022-08-19T10:39:12.394080",
     "exception": false,
     "start_time": "2022-08-19T10:39:12.382462",
     "status": "completed"
    },
    "tags": []
   },
   "source": [
    "### Seems TV and Radio are highly correlated with Sales meaning we will have higher impact by these \n",
    "* feature to drive the impact..."
   ]
  },
  {
   "cell_type": "markdown",
   "id": "e46125eb",
   "metadata": {
    "papermill": {
     "duration": 0.012021,
     "end_time": "2022-08-19T10:39:12.418143",
     "exception": false,
     "start_time": "2022-08-19T10:39:12.406122",
     "status": "completed"
    },
    "tags": []
   },
   "source": [
    "### We can also treat outlier and other transformation to make features normalised one"
   ]
  },
  {
   "cell_type": "code",
   "execution_count": 9,
   "id": "95d3e321",
   "metadata": {
    "execution": {
     "iopub.execute_input": "2022-08-19T10:39:12.445123Z",
     "iopub.status.busy": "2022-08-19T10:39:12.444262Z",
     "iopub.status.idle": "2022-08-19T10:39:12.452120Z",
     "shell.execute_reply": "2022-08-19T10:39:12.451152Z"
    },
    "papermill": {
     "duration": 0.023856,
     "end_time": "2022-08-19T10:39:12.454600",
     "exception": false,
     "start_time": "2022-08-19T10:39:12.430744",
     "status": "completed"
    },
    "tags": []
   },
   "outputs": [
    {
     "data": {
      "text/plain": [
       "Index(['TV', 'Radio', 'Newspaper', 'Sales'], dtype='object')"
      ]
     },
     "execution_count": 9,
     "metadata": {},
     "output_type": "execute_result"
    }
   ],
   "source": [
    "promo.columns"
   ]
  },
  {
   "cell_type": "code",
   "execution_count": 10,
   "id": "055eb11e",
   "metadata": {
    "execution": {
     "iopub.execute_input": "2022-08-19T10:39:12.482342Z",
     "iopub.status.busy": "2022-08-19T10:39:12.481485Z",
     "iopub.status.idle": "2022-08-19T10:39:12.597033Z",
     "shell.execute_reply": "2022-08-19T10:39:12.595753Z"
    },
    "papermill": {
     "duration": 0.132664,
     "end_time": "2022-08-19T10:39:12.599929",
     "exception": false,
     "start_time": "2022-08-19T10:39:12.467265",
     "status": "completed"
    },
    "tags": []
   },
   "outputs": [
    {
     "name": "stderr",
     "output_type": "stream",
     "text": [
      "/opt/conda/lib/python3.7/site-packages/seaborn/_decorators.py:43: FutureWarning: Pass the following variable as a keyword arg: x. From version 0.12, the only valid positional argument will be `data`, and passing other arguments without an explicit keyword will result in an error or misinterpretation.\n",
      "  FutureWarning\n"
     ]
    },
    {
     "data": {
      "text/plain": [
       "<AxesSubplot:xlabel='TV'>"
      ]
     },
     "execution_count": 10,
     "metadata": {},
     "output_type": "execute_result"
    },
    {
     "data": {
      "image/png": "[encoded data removed]",
      "text/plain": [
       "<Figure size 432x288 with 1 Axes>"
      ]
     },
     "metadata": {
      "needs_background": "light"
     },
     "output_type": "display_data"
    }
   ],
   "source": [
    "sns.boxplot(promo['TV'])"
   ]
  },
  {
   "cell_type": "code",
   "execution_count": 11,
   "id": "8917cb0f",
   "metadata": {
    "execution": {
     "iopub.execute_input": "2022-08-19T10:39:12.628388Z",
     "iopub.status.busy": "2022-08-19T10:39:12.627602Z",
     "iopub.status.idle": "2022-08-19T10:39:12.742728Z",
     "shell.execute_reply": "2022-08-19T10:39:12.741556Z"
    },
    "papermill": {
     "duration": 0.133492,
     "end_time": "2022-08-19T10:39:12.746159",
     "exception": false,
     "start_time": "2022-08-19T10:39:12.612667",
     "status": "completed"
    },
    "tags": []
   },
   "outputs": [
    {
     "name": "stderr",
     "output_type": "stream",
     "text": [
      "/opt/conda/lib/python3.7/site-packages/seaborn/_decorators.py:43: FutureWarning: Pass the following variable as a keyword arg: x. From version 0.12, the only valid positional argument will be `data`, and passing other arguments without an explicit keyword will result in an error or misinterpretation.\n",
      "  FutureWarning\n"
     ]
    },
    {
     "data": {
      "text/plain": [
       "<AxesSubplot:xlabel='Radio'>"
      ]
     },
     "execution_count": 11,
     "metadata": {},
     "output_type": "execute_result"
    },
    {
     "data": {
      "image/png": "[encoded data removed]",
      "text/plain": [
       "<Figure size 432x288 with 1 Axes>"
      ]
     },
     "metadata": {
      "needs_background": "light"
     },
     "output_type": "display_data"
    }
   ],
   "source": [
    "sns.boxplot(promo['Radio'])"
   ]
  },
  {
   "cell_type": "code",
   "execution_count": 12,
   "id": "f91e3903",
   "metadata": {
    "execution": {
     "iopub.execute_input": "2022-08-19T10:39:12.777552Z",
     "iopub.status.busy": "2022-08-19T10:39:12.776731Z",
     "iopub.status.idle": "2022-08-19T10:39:12.890059Z",
     "shell.execute_reply": "2022-08-19T10:39:12.889100Z"
    },
    "papermill": {
     "duration": 0.131866,
     "end_time": "2022-08-19T10:39:12.892644",
     "exception": false,
     "start_time": "2022-08-19T10:39:12.760778",
     "status": "completed"
    },
    "tags": []
   },
   "outputs": [
    {
     "name": "stderr",
     "output_type": "stream",
     "text": [
      "/opt/conda/lib/python3.7/site-packages/seaborn/_decorators.py:43: FutureWarning: Pass the following variable as a keyword arg: x. From version 0.12, the only valid positional argument will be `data`, and passing other arguments without an explicit keyword will result in an error or misinterpretation.\n",
      "  FutureWarning\n"
     ]
    },
    {
     "data": {
      "text/plain": [
       "<AxesSubplot:xlabel='Newspaper'>"
      ]
     },
     "execution_count": 12,
     "metadata": {},
     "output_type": "execute_result"
    },
    {
     "data": {
      "image/png": "[encoded data removed]",
      "text/plain": [
       "<Figure size 432x288 with 1 Axes>"
      ]
     },
     "metadata": {
      "needs_background": "light"
     },
     "output_type": "display_data"
    }
   ],
   "source": [
    "### There is outlier in Newspaper\n",
    "sns.boxplot(promo['Newspaper'])"
   ]
  },
  {
   "cell_type": "code",
   "execution_count": 13,
   "id": "f8e91e9c",
   "metadata": {
    "execution": {
     "iopub.execute_input": "2022-08-19T10:39:12.922349Z",
     "iopub.status.busy": "2022-08-19T10:39:12.921553Z",
     "iopub.status.idle": "2022-08-19T10:39:13.083697Z",
     "shell.execute_reply": "2022-08-19T10:39:13.081793Z"
    },
    "papermill": {
     "duration": 0.180261,
     "end_time": "2022-08-19T10:39:13.086447",
     "exception": false,
     "start_time": "2022-08-19T10:39:12.906186",
     "status": "completed"
    },
    "tags": []
   },
   "outputs": [
    {
     "data": {
      "text/plain": [
       "<matplotlib.collections.PathCollection at 0x7f92c3457650>"
      ]
     },
     "execution_count": 13,
     "metadata": {},
     "output_type": "execute_result"
    },
    {
     "data": {
      "image/png": "[encoded data removed]",
      "text/plain": [
       "<Figure size 432x288 with 1 Axes>"
      ]
     },
     "metadata": {
      "needs_background": "light"
     },
     "output_type": "display_data"
    }
   ],
   "source": [
    "plt.scatter(promo['Sales'],promo['TV'])"
   ]
  },
  {
   "cell_type": "code",
   "execution_count": 14,
   "id": "1d52c8c7",
   "metadata": {
    "execution": {
     "iopub.execute_input": "2022-08-19T10:39:13.116535Z",
     "iopub.status.busy": "2022-08-19T10:39:13.115289Z",
     "iopub.status.idle": "2022-08-19T10:39:13.229084Z",
     "shell.execute_reply": "2022-08-19T10:39:13.227739Z"
    },
    "papermill": {
     "duration": 0.131921,
     "end_time": "2022-08-19T10:39:13.231972",
     "exception": false,
     "start_time": "2022-08-19T10:39:13.100051",
     "status": "completed"
    },
    "tags": []
   },
   "outputs": [
    {
     "name": "stderr",
     "output_type": "stream",
     "text": [
      "/opt/conda/lib/python3.7/site-packages/seaborn/_decorators.py:43: FutureWarning: Pass the following variable as a keyword arg: x. From version 0.12, the only valid positional argument will be `data`, and passing other arguments without an explicit keyword will result in an error or misinterpretation.\n",
      "  FutureWarning\n"
     ]
    },
    {
     "data": {
      "text/plain": [
       "<AxesSubplot:xlabel='Sales'>"
      ]
     },
     "execution_count": 14,
     "metadata": {},
     "output_type": "execute_result"
    },
    {
     "data": {
      "image/png": "[encoded data removed]",
      "text/plain": [
       "<Figure size 432x288 with 1 Axes>"
      ]
     },
     "metadata": {
      "needs_background": "light"
     },
     "output_type": "display_data"
    }
   ],
   "source": [
    "sns.boxplot(promo['Sales'])"
   ]
  },
  {
   "cell_type": "code",
   "execution_count": 15,
   "id": "a637bfe8",
   "metadata": {
    "execution": {
     "iopub.execute_input": "2022-08-19T10:39:13.266938Z",
     "iopub.status.busy": "2022-08-19T10:39:13.264460Z",
     "iopub.status.idle": "2022-08-19T10:39:13.430181Z",
     "shell.execute_reply": "2022-08-19T10:39:13.428811Z"
    },
    "papermill": {
     "duration": 0.184777,
     "end_time": "2022-08-19T10:39:13.433249",
     "exception": false,
     "start_time": "2022-08-19T10:39:13.248472",
     "status": "completed"
    },
    "tags": []
   },
   "outputs": [
    {
     "data": {
      "text/plain": [
       "<matplotlib.collections.PathCollection at 0x7f92c33d1f10>"
      ]
     },
     "execution_count": 15,
     "metadata": {},
     "output_type": "execute_result"
    },
    {
     "data": {
      "image/png": "[encoded data removed]",
      "text/plain": [
       "<Figure size 432x288 with 1 Axes>"
      ]
     },
     "metadata": {
      "needs_background": "light"
     },
     "output_type": "display_data"
    }
   ],
   "source": [
    "## Newspaper does not seem to be correlated with dependent variable\n",
    "plt.scatter(promo['Sales'],promo['Newspaper'])"
   ]
  },
  {
   "cell_type": "code",
   "execution_count": 16,
   "id": "bdf175d5",
   "metadata": {
    "execution": {
     "iopub.execute_input": "2022-08-19T10:39:13.466423Z",
     "iopub.status.busy": "2022-08-19T10:39:13.465363Z",
     "iopub.status.idle": "2022-08-19T10:39:13.473093Z",
     "shell.execute_reply": "2022-08-19T10:39:13.472056Z"
    },
    "papermill": {
     "duration": 0.027231,
     "end_time": "2022-08-19T10:39:13.475728",
     "exception": false,
     "start_time": "2022-08-19T10:39:13.448497",
     "status": "completed"
    },
    "tags": []
   },
   "outputs": [],
   "source": [
    "q1= np.percentile(promo['Newspaper'],0.25)\n",
    "q3= np.percentile(promo['Newspaper'],0.75)\n",
    "iqr = q3 - q1\n",
    "lar = q1 - 1.5 * iqr\n",
    "uar = q3 + 1.5 * iqr"
   ]
  },
  {
   "cell_type": "code",
   "execution_count": 17,
   "id": "f22c62a4",
   "metadata": {
    "execution": {
     "iopub.execute_input": "2022-08-19T10:39:13.508656Z",
     "iopub.status.busy": "2022-08-19T10:39:13.508003Z",
     "iopub.status.idle": "2022-08-19T10:39:13.516825Z",
     "shell.execute_reply": "2022-08-19T10:39:13.515612Z"
    },
    "papermill": {
     "duration": 0.027949,
     "end_time": "2022-08-19T10:39:13.519352",
     "exception": false,
     "start_time": "2022-08-19T10:39:13.491403",
     "status": "completed"
    },
    "tags": []
   },
   "outputs": [
    {
     "data": {
      "text/plain": [
       "25.75"
      ]
     },
     "execution_count": 17,
     "metadata": {},
     "output_type": "execute_result"
    }
   ],
   "source": [
    "newspaper_median = np.median(promo['Newspaper'])\n",
    "newspaper_median"
   ]
  },
  {
   "cell_type": "code",
   "execution_count": 18,
   "id": "3c1eb9c7",
   "metadata": {
    "execution": {
     "iopub.execute_input": "2022-08-19T10:39:13.551558Z",
     "iopub.status.busy": "2022-08-19T10:39:13.549393Z",
     "iopub.status.idle": "2022-08-19T10:39:13.668145Z",
     "shell.execute_reply": "2022-08-19T10:39:13.666782Z"
    },
    "papermill": {
     "duration": 0.137245,
     "end_time": "2022-08-19T10:39:13.671191",
     "exception": false,
     "start_time": "2022-08-19T10:39:13.533946",
     "status": "completed"
    },
    "tags": []
   },
   "outputs": [
    {
     "name": "stderr",
     "output_type": "stream",
     "text": [
      "/opt/conda/lib/python3.7/site-packages/seaborn/_decorators.py:43: FutureWarning: Pass the following variable as a keyword arg: x. From version 0.12, the only valid positional argument will be `data`, and passing other arguments without an explicit keyword will result in an error or misinterpretation.\n",
      "  FutureWarning\n"
     ]
    },
    {
     "data": {
      "text/plain": [
       "<AxesSubplot:xlabel='Newspaper'>"
      ]
     },
     "execution_count": 18,
     "metadata": {},
     "output_type": "execute_result"
    },
    {
     "data": {
      "image/png": "[encoded data removed]",
      "text/plain": [
       "<Figure size 432x288 with 1 Axes>"
      ]
     },
     "metadata": {
      "needs_background": "light"
     },
     "output_type": "display_data"
    }
   ],
   "source": [
    "sns.boxplot(promo['Newspaper'])"
   ]
  },
  {
   "cell_type": "code",
   "execution_count": 19,
   "id": "a844cd76",
   "metadata": {
    "execution": {
     "iopub.execute_input": "2022-08-19T10:39:13.704118Z",
     "iopub.status.busy": "2022-08-19T10:39:13.703042Z",
     "iopub.status.idle": "2022-08-19T10:39:13.710410Z",
     "shell.execute_reply": "2022-08-19T10:39:13.708713Z"
    },
    "papermill": {
     "duration": 0.027045,
     "end_time": "2022-08-19T10:39:13.713301",
     "exception": false,
     "start_time": "2022-08-19T10:39:13.686256",
     "status": "completed"
    },
    "tags": []
   },
   "outputs": [],
   "source": [
    "promo['Newspaper'] = promo['Newspaper'].apply(lambda x: 25.75 if x>= 95 else x)"
   ]
  },
  {
   "cell_type": "code",
   "execution_count": 20,
   "id": "1675802d",
   "metadata": {
    "execution": {
     "iopub.execute_input": "2022-08-19T10:39:13.745730Z",
     "iopub.status.busy": "2022-08-19T10:39:13.744863Z",
     "iopub.status.idle": "2022-08-19T10:39:13.852061Z",
     "shell.execute_reply": "2022-08-19T10:39:13.850905Z"
    },
    "papermill": {
     "duration": 0.126503,
     "end_time": "2022-08-19T10:39:13.854857",
     "exception": false,
     "start_time": "2022-08-19T10:39:13.728354",
     "status": "completed"
    },
    "tags": []
   },
   "outputs": [
    {
     "name": "stderr",
     "output_type": "stream",
     "text": [
      "/opt/conda/lib/python3.7/site-packages/seaborn/_decorators.py:43: FutureWarning: Pass the following variable as a keyword arg: x. From version 0.12, the only valid positional argument will be `data`, and passing other arguments without an explicit keyword will result in an error or misinterpretation.\n",
      "  FutureWarning\n"
     ]
    },
    {
     "data": {
      "text/plain": [
       "<AxesSubplot:xlabel='Newspaper'>"
      ]
     },
     "execution_count": 20,
     "metadata": {},
     "output_type": "execute_result"
    },
    {
     "data": {
      "image/png": "[encoded data removed]",
      "text/plain": [
       "<Figure size 432x288 with 1 Axes>"
      ]
     },
     "metadata": {
      "needs_background": "light"
     },
     "output_type": "display_data"
    }
   ],
   "source": [
    "# WE DOn't have outlier now \n",
    "sns.boxplot(promo['Newspaper'])"
   ]
  },
  {
   "cell_type": "code",
   "execution_count": 21,
   "id": "f7f9bce0",
   "metadata": {
    "execution": {
     "iopub.execute_input": "2022-08-19T10:39:13.889500Z",
     "iopub.status.busy": "2022-08-19T10:39:13.889049Z",
     "iopub.status.idle": "2022-08-19T10:39:13.896111Z",
     "shell.execute_reply": "2022-08-19T10:39:13.894683Z"
    },
    "papermill": {
     "duration": 0.027439,
     "end_time": "2022-08-19T10:39:13.899015",
     "exception": false,
     "start_time": "2022-08-19T10:39:13.871576",
     "status": "completed"
    },
    "tags": []
   },
   "outputs": [],
   "source": [
    "y = promo['Sales']\n",
    "x=promo[['TV','Radio','Newspaper']]"
   ]
  },
  {
   "cell_type": "code",
   "execution_count": 22,
   "id": "47e8ad3c",
   "metadata": {
    "execution": {
     "iopub.execute_input": "2022-08-19T10:39:13.930671Z",
     "iopub.status.busy": "2022-08-19T10:39:13.930205Z",
     "iopub.status.idle": "2022-08-19T10:39:13.938260Z",
     "shell.execute_reply": "2022-08-19T10:39:13.937005Z"
    },
    "papermill": {
     "duration": 0.026744,
     "end_time": "2022-08-19T10:39:13.940623",
     "exception": false,
     "start_time": "2022-08-19T10:39:13.913879",
     "status": "completed"
    },
    "tags": []
   },
   "outputs": [
    {
     "data": {
      "text/plain": [
       "Index(['TV', 'Radio', 'Newspaper', 'Sales'], dtype='object')"
      ]
     },
     "execution_count": 22,
     "metadata": {},
     "output_type": "execute_result"
    }
   ],
   "source": [
    "promo.columns"
   ]
  },
  {
   "cell_type": "code",
   "execution_count": 23,
   "id": "ef41e648",
   "metadata": {
    "execution": {
     "iopub.execute_input": "2022-08-19T10:39:13.972838Z",
     "iopub.status.busy": "2022-08-19T10:39:13.972413Z",
     "iopub.status.idle": "2022-08-19T10:39:14.190828Z",
     "shell.execute_reply": "2022-08-19T10:39:14.189676Z"
    },
    "papermill": {
     "duration": 0.237672,
     "end_time": "2022-08-19T10:39:14.193650",
     "exception": false,
     "start_time": "2022-08-19T10:39:13.955978",
     "status": "completed"
    },
    "tags": []
   },
   "outputs": [],
   "source": [
    "import statsmodels.formula.api as sm"
   ]
  },
  {
   "cell_type": "code",
   "execution_count": 24,
   "id": "95ba0cbd",
   "metadata": {
    "execution": {
     "iopub.execute_input": "2022-08-19T10:39:14.228619Z",
     "iopub.status.busy": "2022-08-19T10:39:14.227720Z",
     "iopub.status.idle": "2022-08-19T10:39:14.246665Z",
     "shell.execute_reply": "2022-08-19T10:39:14.245632Z"
    },
    "papermill": {
     "duration": 0.040673,
     "end_time": "2022-08-19T10:39:14.249569",
     "exception": false,
     "start_time": "2022-08-19T10:39:14.208896",
     "status": "completed"
    },
    "tags": []
   },
   "outputs": [],
   "source": [
    "model = sm.ols(formula = \"Sales~TV+Radio+Newspaper\",data=promo).fit()"
   ]
  },
  {
   "cell_type": "code",
   "execution_count": 25,
   "id": "4d0cbc24",
   "metadata": {
    "execution": {
     "iopub.execute_input": "2022-08-19T10:39:14.283241Z",
     "iopub.status.busy": "2022-08-19T10:39:14.282408Z",
     "iopub.status.idle": "2022-08-19T10:39:14.307234Z",
     "shell.execute_reply": "2022-08-19T10:39:14.305251Z"
    },
    "papermill": {
     "duration": 0.04496,
     "end_time": "2022-08-19T10:39:14.310343",
     "exception": false,
     "start_time": "2022-08-19T10:39:14.265383",
     "status": "completed"
    },
    "tags": []
   },
   "outputs": [
    {
     "data": {
      "text/html": [
       "<table class=\"simpletable\">\n",
       "<caption>OLS Regression Results</caption>\n",
       "<tr>\n",
       "  <th>Dep. Variable:</th>          <td>Sales</td>      <th>  R-squared:         </th> <td>   0.897</td>\n",
       "</tr>\n",
       "<tr>\n",
       "  <th>Model:</th>                   <td>OLS</td>       <th>  Adj. R-squared:    </th> <td>   0.896</td>\n",
       "</tr>\n",
       "<tr>\n",
       "  <th>Method:</th>             <td>Least Squares</td>  <th>  F-statistic:       </th> <td>   570.3</td>\n",
       "</tr>\n",
       "<tr>\n",
       "  <th>Date:</th>             <td>Fri, 19 Aug 2022</td> <th>  Prob (F-statistic):</th> <td>1.57e-96</td>\n",
       "</tr>\n",
       "<tr>\n",
       "  <th>Time:</th>                 <td>10:39:14</td>     <th>  Log-Likelihood:    </th> <td> -386.18</td>\n",
       "</tr>\n",
       "<tr>\n",
       "  <th>No. Observations:</th>      <td>   200</td>      <th>  AIC:               </th> <td>   780.4</td>\n",
       "</tr>\n",
       "<tr>\n",
       "  <th>Df Residuals:</th>          <td>   196</td>      <th>  BIC:               </th> <td>   793.6</td>\n",
       "</tr>\n",
       "<tr>\n",
       "  <th>Df Model:</th>              <td>     3</td>      <th>                     </th>     <td> </td>   \n",
       "</tr>\n",
       "<tr>\n",
       "  <th>Covariance Type:</th>      <td>nonrobust</td>    <th>                     </th>     <td> </td>   \n",
       "</tr>\n",
       "</table>\n",
       "<table class=\"simpletable\">\n",
       "<tr>\n",
       "      <td></td>         <th>coef</th>     <th>std err</th>      <th>t</th>      <th>P>|t|</th>  <th>[0.025</th>    <th>0.975]</th>  \n",
       "</tr>\n",
       "<tr>\n",
       "  <th>Intercept</th> <td>    2.9424</td> <td>    0.316</td> <td>    9.325</td> <td> 0.000</td> <td>    2.320</td> <td>    3.565</td>\n",
       "</tr>\n",
       "<tr>\n",
       "  <th>TV</th>        <td>    0.0458</td> <td>    0.001</td> <td>   32.818</td> <td> 0.000</td> <td>    0.043</td> <td>    0.049</td>\n",
       "</tr>\n",
       "<tr>\n",
       "  <th>Radio</th>     <td>    0.1886</td> <td>    0.009</td> <td>   21.989</td> <td> 0.000</td> <td>    0.172</td> <td>    0.205</td>\n",
       "</tr>\n",
       "<tr>\n",
       "  <th>Newspaper</th> <td>   -0.0012</td> <td>    0.006</td> <td>   -0.191</td> <td> 0.848</td> <td>   -0.014</td> <td>    0.011</td>\n",
       "</tr>\n",
       "</table>\n",
       "<table class=\"simpletable\">\n",
       "<tr>\n",
       "  <th>Omnibus:</th>       <td>60.387</td> <th>  Durbin-Watson:     </th> <td>   2.083</td>\n",
       "</tr>\n",
       "<tr>\n",
       "  <th>Prob(Omnibus):</th> <td> 0.000</td> <th>  Jarque-Bera (JB):  </th> <td> 151.276</td>\n",
       "</tr>\n",
       "<tr>\n",
       "  <th>Skew:</th>          <td>-1.326</td> <th>  Prob(JB):          </th> <td>1.41e-33</td>\n",
       "</tr>\n",
       "<tr>\n",
       "  <th>Kurtosis:</th>      <td> 6.334</td> <th>  Cond. No.          </th> <td>    459.</td>\n",
       "</tr>\n",
       "</table><br/><br/>Notes:<br/>[1] Standard Errors assume that the covariance matrix of the errors is correctly specified."
      ],
      "text/plain": [
       "<class 'statsmodels.iolib.summary.Summary'>\n",
       "\"\"\"\n",
       "                            OLS Regression Results                            \n",
       "==============================================================================\n",
       "Dep. Variable:                  Sales   R-squared:                       0.897\n",
       "Model:                            OLS   Adj. R-squared:                  0.896\n",
       "Method:                 Least Squares   F-statistic:                     570.3\n",
       "Date:                Fri, 19 Aug 2022   Prob (F-statistic):           1.57e-96\n",
       "Time:                        10:39:14   Log-Likelihood:                -386.18\n",
       "No. Observations:                 200   AIC:                             780.4\n",
       "Df Residuals:                     196   BIC:                             793.6\n",
       "Df Model:                           3                                         \n",
       "Covariance Type:            nonrobust                                         \n",
       "==============================================================================\n",
       "                 coef    std err          t      P>|t|      [0.025      0.975]\n",
       "------------------------------------------------------------------------------\n",
       "Intercept      2.9424      0.316      9.325      0.000       2.320       3.565\n",
       "TV             0.0458      0.001     32.818      0.000       0.043       0.049\n",
       "Radio          0.1886      0.009     21.989      0.000       0.172       0.205\n",
       "Newspaper     -0.0012      0.006     -0.191      0.848      -0.014       0.011\n",
       "==============================================================================\n",
       "Omnibus:                       60.387   Durbin-Watson:                   2.083\n",
       "Prob(Omnibus):                  0.000   Jarque-Bera (JB):              151.276\n",
       "Skew:                          -1.326   Prob(JB):                     1.41e-33\n",
       "Kurtosis:                       6.334   Cond. No.                         459.\n",
       "==============================================================================\n",
       "\n",
       "Notes:\n",
       "[1] Standard Errors assume that the covariance matrix of the errors is correctly specified.\n",
       "\"\"\""
      ]
     },
     "execution_count": 25,
     "metadata": {},
     "output_type": "execute_result"
    }
   ],
   "source": [
    "model.summary()"
   ]
  },
  {
   "cell_type": "code",
   "execution_count": 26,
   "id": "b7339edc",
   "metadata": {
    "execution": {
     "iopub.execute_input": "2022-08-19T10:39:14.344358Z",
     "iopub.status.busy": "2022-08-19T10:39:14.343443Z",
     "iopub.status.idle": "2022-08-19T10:39:14.355579Z",
     "shell.execute_reply": "2022-08-19T10:39:14.354593Z"
    },
    "papermill": {
     "duration": 0.032398,
     "end_time": "2022-08-19T10:39:14.358415",
     "exception": false,
     "start_time": "2022-08-19T10:39:14.326017",
     "status": "completed"
    },
    "tags": []
   },
   "outputs": [],
   "source": [
    "promo['predicted_sales_m'] = model.predict(x)"
   ]
  },
  {
   "cell_type": "code",
   "execution_count": 27,
   "id": "516465a0",
   "metadata": {
    "execution": {
     "iopub.execute_input": "2022-08-19T10:39:14.391957Z",
     "iopub.status.busy": "2022-08-19T10:39:14.391052Z",
     "iopub.status.idle": "2022-08-19T10:39:14.398047Z",
     "shell.execute_reply": "2022-08-19T10:39:14.396591Z"
    },
    "papermill": {
     "duration": 0.026829,
     "end_time": "2022-08-19T10:39:14.400819",
     "exception": false,
     "start_time": "2022-08-19T10:39:14.373990",
     "status": "completed"
    },
    "tags": []
   },
   "outputs": [],
   "source": [
    "Intercept = 2.9424\n",
    "beta1 = 0.0458\n",
    "beta2  = 0.1886\n",
    "beta3 =-0.0012"
   ]
  },
  {
   "cell_type": "code",
   "execution_count": 28,
   "id": "5b7d4ed4",
   "metadata": {
    "execution": {
     "iopub.execute_input": "2022-08-19T10:39:14.435138Z",
     "iopub.status.busy": "2022-08-19T10:39:14.433735Z",
     "iopub.status.idle": "2022-08-19T10:39:14.449186Z",
     "shell.execute_reply": "2022-08-19T10:39:14.448266Z"
    },
    "papermill": {
     "duration": 0.035658,
     "end_time": "2022-08-19T10:39:14.451823",
     "exception": false,
     "start_time": "2022-08-19T10:39:14.416165",
     "status": "completed"
    },
    "tags": []
   },
   "outputs": [
    {
     "data": {
      "text/html": [
       "<div>\n",
       "<style scoped>\n",
       "    .dataframe tbody tr th:only-of-type {\n",
       "        vertical-align: middle;\n",
       "    }\n",
       "\n",
       "    .dataframe tbody tr th {\n",
       "        vertical-align: top;\n",
       "    }\n",
       "\n",
       "    .dataframe thead th {\n",
       "        text-align: right;\n",
       "    }\n",
       "</style>\n",
       "<table border=\"1\" class=\"dataframe\">\n",
       "  <thead>\n",
       "    <tr style=\"text-align: right;\">\n",
       "      <th></th>\n",
       "      <th>TV</th>\n",
       "      <th>Radio</th>\n",
       "      <th>Newspaper</th>\n",
       "      <th>Sales</th>\n",
       "      <th>predicted_sales_m</th>\n",
       "    </tr>\n",
       "  </thead>\n",
       "  <tbody>\n",
       "    <tr>\n",
       "      <th>0</th>\n",
       "      <td>230.1</td>\n",
       "      <td>37.8</td>\n",
       "      <td>69.2</td>\n",
       "      <td>22.1</td>\n",
       "      <td>20.517073</td>\n",
       "    </tr>\n",
       "    <tr>\n",
       "      <th>1</th>\n",
       "      <td>44.5</td>\n",
       "      <td>39.3</td>\n",
       "      <td>45.1</td>\n",
       "      <td>10.4</td>\n",
       "      <td>12.335092</td>\n",
       "    </tr>\n",
       "  </tbody>\n",
       "</table>\n",
       "</div>"
      ],
      "text/plain": [
       "      TV  Radio  Newspaper  Sales  predicted_sales_m\n",
       "0  230.1   37.8       69.2   22.1          20.517073\n",
       "1   44.5   39.3       45.1   10.4          12.335092"
      ]
     },
     "execution_count": 28,
     "metadata": {},
     "output_type": "execute_result"
    }
   ],
   "source": [
    "promo.head(2)"
   ]
  },
  {
   "cell_type": "code",
   "execution_count": 29,
   "id": "01441847",
   "metadata": {
    "execution": {
     "iopub.execute_input": "2022-08-19T10:39:14.486093Z",
     "iopub.status.busy": "2022-08-19T10:39:14.485598Z",
     "iopub.status.idle": "2022-08-19T10:39:14.493931Z",
     "shell.execute_reply": "2022-08-19T10:39:14.492446Z"
    },
    "papermill": {
     "duration": 0.028837,
     "end_time": "2022-08-19T10:39:14.496817",
     "exception": false,
     "start_time": "2022-08-19T10:39:14.467980",
     "status": "completed"
    },
    "tags": []
   },
   "outputs": [],
   "source": [
    "promo['predicted_sales_c'] = Intercept + beta1*promo['TV']+ beta2 * promo['Radio']\\\n",
    "                + beta3*promo['Newspaper']"
   ]
  },
  {
   "cell_type": "code",
   "execution_count": 30,
   "id": "000a311c",
   "metadata": {
    "execution": {
     "iopub.execute_input": "2022-08-19T10:39:14.531479Z",
     "iopub.status.busy": "2022-08-19T10:39:14.531032Z",
     "iopub.status.idle": "2022-08-19T10:39:14.539663Z",
     "shell.execute_reply": "2022-08-19T10:39:14.538170Z"
    },
    "papermill": {
     "duration": 0.029396,
     "end_time": "2022-08-19T10:39:14.542615",
     "exception": false,
     "start_time": "2022-08-19T10:39:14.513219",
     "status": "completed"
    },
    "tags": []
   },
   "outputs": [],
   "source": [
    "promo['base_sales']= Intercept"
   ]
  },
  {
   "cell_type": "code",
   "execution_count": 31,
   "id": "88f62245",
   "metadata": {
    "execution": {
     "iopub.execute_input": "2022-08-19T10:39:14.576401Z",
     "iopub.status.busy": "2022-08-19T10:39:14.574760Z",
     "iopub.status.idle": "2022-08-19T10:39:14.582867Z",
     "shell.execute_reply": "2022-08-19T10:39:14.581258Z"
    },
    "papermill": {
     "duration": 0.02764,
     "end_time": "2022-08-19T10:39:14.585535",
     "exception": false,
     "start_time": "2022-08-19T10:39:14.557895",
     "status": "completed"
    },
    "tags": []
   },
   "outputs": [],
   "source": [
    "promo['error']=promo['Sales'] - promo['predicted_sales_m'] "
   ]
  },
  {
   "cell_type": "code",
   "execution_count": 32,
   "id": "afcd5065",
   "metadata": {
    "execution": {
     "iopub.execute_input": "2022-08-19T10:39:14.619669Z",
     "iopub.status.busy": "2022-08-19T10:39:14.619211Z",
     "iopub.status.idle": "2022-08-19T10:39:14.630065Z",
     "shell.execute_reply": "2022-08-19T10:39:14.628520Z"
    },
    "papermill": {
     "duration": 0.031068,
     "end_time": "2022-08-19T10:39:14.632532",
     "exception": false,
     "start_time": "2022-08-19T10:39:14.601464",
     "status": "completed"
    },
    "tags": []
   },
   "outputs": [
    {
     "data": {
      "text/plain": [
       "TV                   2.940850e+04\n",
       "Radio                4.652800e+03\n",
       "Newspaper            5.947400e+03\n",
       "Sales                2.804500e+03\n",
       "predicted_sales_m    2.804500e+03\n",
       "predicted_sales_c    2.805771e+03\n",
       "base_sales           5.884800e+02\n",
       "error                1.293188e-12\n",
       "dtype: float64"
      ]
     },
     "execution_count": 32,
     "metadata": {},
     "output_type": "execute_result"
    }
   ],
   "source": [
    "promo.sum()"
   ]
  },
  {
   "cell_type": "code",
   "execution_count": 33,
   "id": "b89e4fb3",
   "metadata": {
    "execution": {
     "iopub.execute_input": "2022-08-19T10:39:14.668547Z",
     "iopub.status.busy": "2022-08-19T10:39:14.668095Z",
     "iopub.status.idle": "2022-08-19T10:39:14.678295Z",
     "shell.execute_reply": "2022-08-19T10:39:14.676885Z"
    },
    "papermill": {
     "duration": 0.032554,
     "end_time": "2022-08-19T10:39:14.681178",
     "exception": false,
     "start_time": "2022-08-19T10:39:14.648624",
     "status": "completed"
    },
    "tags": []
   },
   "outputs": [],
   "source": [
    "promo['Impact_TV']= beta1 * promo['TV']\n",
    "promo['Impact_radio']=beta2 * promo['Radio']\n",
    "promo['Impact_newspaper']=beta3 * promo['Newspaper']"
   ]
  },
  {
   "cell_type": "code",
   "execution_count": 34,
   "id": "0186c0e9",
   "metadata": {
    "execution": {
     "iopub.execute_input": "2022-08-19T10:39:14.715695Z",
     "iopub.status.busy": "2022-08-19T10:39:14.715193Z",
     "iopub.status.idle": "2022-08-19T10:39:14.726610Z",
     "shell.execute_reply": "2022-08-19T10:39:14.725410Z"
    },
    "papermill": {
     "duration": 0.032356,
     "end_time": "2022-08-19T10:39:14.729146",
     "exception": false,
     "start_time": "2022-08-19T10:39:14.696790",
     "status": "completed"
    },
    "tags": []
   },
   "outputs": [
    {
     "data": {
      "text/plain": [
       "TV                   2.940850e+04\n",
       "Radio                4.652800e+03\n",
       "Newspaper            5.947400e+03\n",
       "Sales                2.804500e+03\n",
       "predicted_sales_m    2.804500e+03\n",
       "predicted_sales_c    2.805771e+03\n",
       "base_sales           5.884800e+02\n",
       "error                1.293188e-12\n",
       "Impact_TV            1.346909e+03\n",
       "Impact_radio         8.775181e+02\n",
       "Impact_newspaper    -7.136880e+00\n",
       "dtype: float64"
      ]
     },
     "execution_count": 34,
     "metadata": {},
     "output_type": "execute_result"
    }
   ],
   "source": [
    "promo.sum()"
   ]
  },
  {
   "cell_type": "markdown",
   "id": "f3f1754c",
   "metadata": {
    "papermill": {
     "duration": 0.015907,
     "end_time": "2022-08-19T10:39:14.760775",
     "exception": false,
     "start_time": "2022-08-19T10:39:14.744868",
     "status": "completed"
    },
    "tags": []
   },
   "source": [
    "#### Volume based TV channel Impact in Percentage is as below"
   ]
  },
  {
   "cell_type": "code",
   "execution_count": 35,
   "id": "6e41518c",
   "metadata": {
    "execution": {
     "iopub.execute_input": "2022-08-19T10:39:14.794471Z",
     "iopub.status.busy": "2022-08-19T10:39:14.793982Z",
     "iopub.status.idle": "2022-08-19T10:39:14.805144Z",
     "shell.execute_reply": "2022-08-19T10:39:14.803272Z"
    },
    "papermill": {
     "duration": 0.031553,
     "end_time": "2022-08-19T10:39:14.807939",
     "exception": false,
     "start_time": "2022-08-19T10:39:14.776386",
     "status": "completed"
    },
    "tags": []
   },
   "outputs": [
    {
     "data": {
      "text/plain": [
       "47.9814155821002"
      ]
     },
     "execution_count": 35,
     "metadata": {},
     "output_type": "execute_result"
    }
   ],
   "source": [
    "total_sales = promo['Sales'].sum()\n",
    "prct_tv_impact = ((total_sales- (promo['base_sales'].sum() + \n",
    "                                promo['Impact_radio'].sum() + \n",
    "                                promo['Impact_newspaper'].sum()))/ total_sales)*100\n",
    "prct_tv_impact"
   ]
  },
  {
   "cell_type": "markdown",
   "id": "9628e0f3",
   "metadata": {
    "papermill": {
     "duration": 0.017299,
     "end_time": "2022-08-19T10:39:14.842724",
     "exception": false,
     "start_time": "2022-08-19T10:39:14.825425",
     "status": "completed"
    },
    "tags": []
   },
   "source": [
    "#### Volume based Radio channel Impact in Percentage is as below"
   ]
  },
  {
   "cell_type": "code",
   "execution_count": 36,
   "id": "4867e908",
   "metadata": {
    "execution": {
     "iopub.execute_input": "2022-08-19T10:39:14.879127Z",
     "iopub.status.busy": "2022-08-19T10:39:14.878632Z",
     "iopub.status.idle": "2022-08-19T10:39:14.887826Z",
     "shell.execute_reply": "2022-08-19T10:39:14.886801Z"
    },
    "papermill": {
     "duration": 0.030652,
     "end_time": "2022-08-19T10:39:14.890345",
     "exception": false,
     "start_time": "2022-08-19T10:39:14.859693",
     "status": "completed"
    },
    "tags": []
   },
   "outputs": [
    {
     "data": {
      "text/plain": [
       "31.244342307006605"
      ]
     },
     "execution_count": 36,
     "metadata": {},
     "output_type": "execute_result"
    }
   ],
   "source": [
    "prct_radio_impact =( (total_sales- (promo['base_sales'].sum() +\n",
    "                                   promo['Impact_TV'].sum()  + \n",
    "                                   promo['Impact_newspaper'].sum()))/ total_sales)*100\n",
    "prct_radio_impact"
   ]
  },
  {
   "cell_type": "markdown",
   "id": "9accbdcd",
   "metadata": {
    "papermill": {
     "duration": 0.015429,
     "end_time": "2022-08-19T10:39:14.922149",
     "exception": false,
     "start_time": "2022-08-19T10:39:14.906720",
     "status": "completed"
    },
    "tags": []
   },
   "source": [
    "#### Volume based NewsPaper channel Impact in Percentage is as below"
   ]
  },
  {
   "cell_type": "code",
   "execution_count": 37,
   "id": "649fd528",
   "metadata": {
    "execution": {
     "iopub.execute_input": "2022-08-19T10:39:14.957427Z",
     "iopub.status.busy": "2022-08-19T10:39:14.956848Z",
     "iopub.status.idle": "2022-08-19T10:39:14.966367Z",
     "shell.execute_reply": "2022-08-19T10:39:14.964917Z"
    },
    "papermill": {
     "duration": 0.029463,
     "end_time": "2022-08-19T10:39:14.968718",
     "exception": false,
     "start_time": "2022-08-19T10:39:14.939255",
     "status": "completed"
    },
    "tags": []
   },
   "outputs": [
    {
     "data": {
      "text/plain": [
       "-0.29978177928328215"
      ]
     },
     "execution_count": 37,
     "metadata": {},
     "output_type": "execute_result"
    }
   ],
   "source": [
    "prct_newspaper_impact = ((total_sales- (promo['base_sales'].sum()+ \n",
    "                                       promo['Impact_TV'].sum() + \n",
    "                                       promo['Impact_radio'].sum()))/ total_sales)*100\n",
    "prct_newspaper_impact"
   ]
  },
  {
   "cell_type": "markdown",
   "id": "a40c22d3",
   "metadata": {
    "papermill": {
     "duration": 0.015471,
     "end_time": "2022-08-19T10:39:15.000388",
     "exception": false,
     "start_time": "2022-08-19T10:39:14.984917",
     "status": "completed"
    },
    "tags": []
   },
   "source": [
    "### Volume based bASE Impact in Percentage is as below EVEN THough there is no promotion what % of sales is occuring"
   ]
  },
  {
   "cell_type": "code",
   "execution_count": 38,
   "id": "b982b430",
   "metadata": {
    "execution": {
     "iopub.execute_input": "2022-08-19T10:39:15.035480Z",
     "iopub.status.busy": "2022-08-19T10:39:15.034690Z",
     "iopub.status.idle": "2022-08-19T10:39:15.042451Z",
     "shell.execute_reply": "2022-08-19T10:39:15.041531Z"
    },
    "papermill": {
     "duration": 0.02792,
     "end_time": "2022-08-19T10:39:15.044800",
     "exception": false,
     "start_time": "2022-08-19T10:39:15.016880",
     "status": "completed"
    },
    "tags": []
   },
   "outputs": [
    {
     "data": {
      "text/plain": [
       "20.938117311463717"
      ]
     },
     "execution_count": 38,
     "metadata": {},
     "output_type": "execute_result"
    }
   ],
   "source": [
    "prct_base_impact = ((total_sales- (promo['Impact_newspaper'].sum()+ \n",
    "                                       promo['Impact_TV'].sum() + \n",
    "                                       promo['Impact_radio'].sum()))/ total_sales)*100\n",
    "prct_base_impact"
   ]
  },
  {
   "cell_type": "code",
   "execution_count": 39,
   "id": "a69f869c",
   "metadata": {
    "execution": {
     "iopub.execute_input": "2022-08-19T10:39:15.080084Z",
     "iopub.status.busy": "2022-08-19T10:39:15.079566Z",
     "iopub.status.idle": "2022-08-19T10:39:15.087360Z",
     "shell.execute_reply": "2022-08-19T10:39:15.086185Z"
    },
    "papermill": {
     "duration": 0.02837,
     "end_time": "2022-08-19T10:39:15.089666",
     "exception": false,
     "start_time": "2022-08-19T10:39:15.061296",
     "status": "completed"
    },
    "tags": []
   },
   "outputs": [
    {
     "data": {
      "text/plain": [
       "99.86409342128724"
      ]
     },
     "execution_count": 39,
     "metadata": {},
     "output_type": "execute_result"
    }
   ],
   "source": [
    "Total_Contribution =  prct_base_impact + prct_tv_impact + prct_radio_impact + prct_newspaper_impact\n",
    "Total_Contribution"
   ]
  },
  {
   "cell_type": "code",
   "execution_count": 40,
   "id": "837c218a",
   "metadata": {
    "execution": {
     "iopub.execute_input": "2022-08-19T10:39:15.125200Z",
     "iopub.status.busy": "2022-08-19T10:39:15.124114Z",
     "iopub.status.idle": "2022-08-19T10:39:15.131093Z",
     "shell.execute_reply": "2022-08-19T10:39:15.129654Z"
    },
    "papermill": {
     "duration": 0.029224,
     "end_time": "2022-08-19T10:39:15.134980",
     "exception": false,
     "start_time": "2022-08-19T10:39:15.105756",
     "status": "completed"
    },
    "tags": []
   },
   "outputs": [
    {
     "name": "stdout",
     "output_type": "stream",
     "text": [
      "TV Contribution is 47.9814155821002\n",
      "Radio Contribution is 31.244342307006605\n",
      "Newspaper Contribution is -0.29978177928328215\n",
      "Base Sales Contribution is 20.938117311463717\n"
     ]
    }
   ],
   "source": [
    "print(\"TV Contribution is {}\".format(prct_tv_impact))\n",
    "print(\"Radio Contribution is {}\".format(prct_radio_impact))\n",
    "print(\"Newspaper Contribution is {}\".format(prct_newspaper_impact))\n",
    "print(\"Base Sales Contribution is {}\".format(prct_base_impact))"
   ]
  },
  {
   "cell_type": "markdown",
   "id": "bec5e5c2",
   "metadata": {
    "papermill": {
     "duration": 0.016344,
     "end_time": "2022-08-19T10:39:15.170123",
     "exception": false,
     "start_time": "2022-08-19T10:39:15.153779",
     "status": "completed"
    },
    "tags": []
   },
   "source": [
    "### Hence we can conclude that TV is most impactful channel followed with Radio and Business acumen \n",
    "*** should stop investing on Newspaper as there is negative impact by this channel.\n"
   ]
  }
 ],
 "metadata": {
  "kernelspec": {
   "display_name": "Python 3",
   "language": "python",
   "name": "python3"
  },
  "language_info": {
   "codemirror_mode": {
    "name": "ipython",
    "version": 3
   },
   "file_extension": ".py",
   "mimetype": "text/x-python",
   "name": "python",
   "nbconvert_exporter": "python",
   "pygments_lexer": "ipython3",
   "version": "3.7.12"
  },
  "papermill": {
   "default_parameters": {},
   "duration": 17.31571,
   "end_time": "2022-08-19T10:39:16.112542",
   "environment_variables": {},
   "exception": null,
   "input_path": "__notebook__.ipynb",
   "output_path": "__notebook__.ipynb",
   "parameters": {},
   "start_time": "2022-08-19T10:38:58.796832",
   "version": "2.3.4"
  }
 },
 "nbformat": 4,
 "nbformat_minor": 5
}
